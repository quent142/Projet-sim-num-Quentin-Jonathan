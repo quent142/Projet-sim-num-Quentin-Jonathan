{
 "cells": [
  {
   "cell_type": "markdown",
   "metadata": {},
   "source": [
    "# Projet de simulation numérique - Brusselator\n",
    "####   Quentin Lalou - Jonathan Magérus"
   ]
  },
  {
   "cell_type": "markdown",
   "metadata": {},
   "source": [
    "## Brusselator 0D"
   ]
  },
  {
   "cell_type": "markdown",
   "metadata": {},
   "source": [
    "Nous considérons le système suivant :\n",
    "$$ \\frac{du}{dt} = A + u^2 v - Bu - u$$\n",
    "$$ \\frac{dv}{dt} = Bu - u^2 v$$\n",
    "avec A,B > 0."
   ]
  },
  {
   "cell_type": "markdown",
   "metadata": {},
   "source": [
    "## Approche théorique"
   ]
  },
  {
   "cell_type": "markdown",
   "metadata": {},
   "source": [
    "Tout d'abord, essayons de déterminer les équilibres du système. On a $Bu - u^2v = 0$, et donc, $u = 0$ ou $B = uv$. En réinjectant nos résultat dans $A + u^2v - Bu - u = 0$, on trouve un équilibre au point $p = (A,\\frac{B}{A})$. La jacobienne du système au point d'équilibre est égal à :\n",
    "\n",
    "$$ J(p) = \\begin{pmatrix} B - 1 & A^2 \\\\ -B & -A^2 \\end{pmatrix}$$\n",
    "\n",
    "Les valeurs propres de cette matrice sont égales à $\\lambda_{\\pm} = \\frac{1}{2} ( \\pm \\sqrt{(A^2 - B + 1)^2 - 4A^2} - A^2 + B -1)$.\n",
    "On remarque que $Re(\\lambda_{\\pm}) \\leq 0$ pour $B \\leq 1 + A^2$. Notre équilibre est donc stable et devient instable pour $B > 1 + A^2$."
   ]
  },
  {
   "cell_type": "markdown",
   "metadata": {},
   "source": [
    "Faisons un premier essai de ce système en utilisant simplement la méthode d'euler avant, avec u = v = 0 et A = B = 1 :"
   ]
  },
  {
   "cell_type": "code",
   "execution_count": 2,
   "metadata": {},
   "outputs": [],
   "source": [
    "import matplotlib.pyplot as plt"
   ]
  },
  {
   "cell_type": "code",
   "execution_count": 3,
   "metadata": {},
   "outputs": [],
   "source": [
    "def dudt(u,v,A,B) :\n",
    "    der_u = A + v*u**2 - B*u - u\n",
    "    return der_u\n",
    "\n",
    "def dvdt(u,v,A,B) :\n",
    "    der_v = B*u - v*u**2\n",
    "    return der_v\n",
    "\n",
    "def eul_av(A,B,u_0,v_0, t_f, h) :\n",
    "    u = [u_0]\n",
    "    v = [v_0]\n",
    "    t = [0]\n",
    "    while t[-1] < t_f :\n",
    "        u.append(u[-1] + h*dudt(u[-1],v[-1],A,B))\n",
    "        v.append(v[-1] + h*dvdt(u[-1],v[-1],A,B))\n",
    "        t.append(t[-1] + h)\n",
    "    return u,v,t"
   ]
  },
  {
   "cell_type": "code",
   "execution_count": 4,
   "metadata": {},
   "outputs": [
    {
     "data": {
      "text/plain": [
       "<matplotlib.legend.Legend at 0x71c5790>"
      ]
     },
     "execution_count": 4,
     "metadata": {},
     "output_type": "execute_result"
    },
    {
     "data": {
      "image/png": "[encoded data removed]",
      "text/plain": [
       "<Figure size 432x288 with 2 Axes>"
      ]
     },
     "metadata": {
      "needs_background": "light"
     },
     "output_type": "display_data"
    }
   ],
   "source": [
    "a,b,t = eul_av(1,1,0,0,100,0.01)\n",
    "\n",
    "fig1 = plt.figure()\n",
    "fig1.suptitle('Brusselator 0D, euleur avant')\n",
    "ax1 = fig1.add_subplot(121)\n",
    "ax1.plot(t,a,label = 'composant u')\n",
    "ax1.plot(t,b,label = 'composant v')\n",
    "plt.legend()\n",
    "\n",
    "ax2 = fig1.add_subplot(122)\n",
    "ax2.plot(b,a, label = 'u en fonction de v')\n",
    "plt.legend()"
   ]
  }
 ],
 "metadata": {
  "kernelspec": {
   "display_name": "Python 3",
   "language": "python",
   "name": "python3"
  },
  "language_info": {
   "codemirror_mode": {
    "name": "ipython",
    "version": 3
   },
   "file_extension": ".py",
   "mimetype": "text/x-python",
   "name": "python",
   "nbconvert_exporter": "python",
   "pygments_lexer": "ipython3",
   "version": "3.8.5"
  }
 },
 "nbformat": 4,
 "nbformat_minor": 4
}
